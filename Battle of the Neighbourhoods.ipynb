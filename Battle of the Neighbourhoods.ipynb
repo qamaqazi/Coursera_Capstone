{
 "cells": [
  {
   "cell_type": "markdown",
   "metadata": {},
   "source": [
    "# The Battle of Neighborhoods - Week 1"
   ]
  },
  {
   "cell_type": "markdown",
   "metadata": {},
   "source": [
    "## 1. Introduction and Business Problem"
   ]
  },
  {
   "cell_type": "markdown",
   "metadata": {},
   "source": [
    "Every new business considers a number of factors before setting up shop for the firs time. One of the main risks for a business is the crime rate within a neighbourhood; the inference here is that a lower crime rate will not only mean a safer business and employees but also have customers that feel safe shopping. This project aims to explore the neighbourhoods and boroughs in the city of Vancouver, Canada, and recommend area(s) for opening up a new grocery store based on the level of safety and then within these safer regions choose the borough where there may be a higher need for a grocery store."
   ]
  },
  {
   "cell_type": "markdown",
   "metadata": {},
   "source": [
    "## 2. Data Source"
   ]
  },
  {
   "cell_type": "markdown",
   "metadata": {},
   "source": [
    "We will be using the following sources of data for our journey.\n",
    "\n",
    "Vancouver geographical data - Foursquare location data\n",
    "\n",
    "Vancouver borough data - https://en.wikipedia.org/wiki/List_of_neighbourhoods_in_Vancouver\n",
    "\n",
    "Crime data - https://www.kaggle.com/agilesifaka/vancouver-crime-report/version/2\n",
    "\n",
    "We will use the crime data to determine the safest borough. \n",
    "We will be using the latitudinal and longitudinal coordinates of the city of vancouver to plot areas within a borough that is safe and within a certain radius of the city's center. Then we will cluster our areas/neighbourhoods to present the findings.\n",
    "On top of this, we will be using a number of libraries including OpenCageGeocode for location data, "
   ]
  }
 ],
 "metadata": {
  "kernelspec": {
   "display_name": "Python",
   "language": "python",
   "name": "conda-env-python-py"
  },
  "language_info": {
   "codemirror_mode": {
    "name": "ipython",
    "version": 3
   },
   "file_extension": ".py",
   "mimetype": "text/x-python",
   "name": "python",
   "nbconvert_exporter": "python",
   "pygments_lexer": "ipython3",
   "version": "3.6.10"
  }
 },
 "nbformat": 4,
 "nbformat_minor": 4
}
